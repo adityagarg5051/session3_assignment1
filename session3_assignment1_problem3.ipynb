{
 "cells": [
  {
   "cell_type": "code",
   "execution_count": 39,
   "metadata": {},
   "outputs": [
    {
     "name": "stdout",
     "output_type": "stream",
     "text": [
      "Type your sentence here: big brown fox jumped over a lazy dog\n",
      "jumped is the longest word with lenght 6\n"
     ]
    }
   ],
   "source": [
    "def main():\n",
    "    text_word=input(\"Type your sentence here: \")\n",
    "    longest=0\n",
    "    for words in text_word.split():\n",
    "        if len(words)>longest:\n",
    "            longest=len(words)\n",
    "            longest_word=words\n",
    "    print(longest_word, \"is the longest word with lenght\", len(longest_word))\n",
    "main()"
   ]
  },
  {
   "cell_type": "code",
   "execution_count": null,
   "metadata": {},
   "outputs": [],
   "source": []
  }
 ],
 "metadata": {
  "kernelspec": {
   "display_name": "Python 3",
   "language": "python",
   "name": "python3"
  },
  "language_info": {
   "codemirror_mode": {
    "name": "ipython",
    "version": 3
   },
   "file_extension": ".py",
   "mimetype": "text/x-python",
   "name": "python",
   "nbconvert_exporter": "python",
   "pygments_lexer": "ipython3",
   "version": "3.6.5"
  }
 },
 "nbformat": 4,
 "nbformat_minor": 2
}
